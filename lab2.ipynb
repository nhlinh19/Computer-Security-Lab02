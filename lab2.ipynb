{
 "cells": [
  {
   "cell_type": "markdown",
   "metadata": {},
   "source": [
    "# Task 1: Frequency Analysis"
   ]
  },
  {
   "cell_type": "markdown",
   "metadata": {},
   "source": [
    "## Statistics for n-grams"
   ]
  },
  {
   "cell_type": "code",
   "execution_count": 248,
   "metadata": {},
   "outputs": [
    {
     "name": "stdout",
     "output_type": "stream",
     "text": [
      "-------------------------------------\n",
      "1-gram (top 20):\n",
      "n: 488\n",
      "y: 373\n",
      "v: 348\n",
      "x: 291\n",
      "u: 280\n",
      "q: 276\n",
      "m: 264\n",
      "h: 235\n",
      "t: 183\n",
      "i: 166\n",
      "p: 156\n",
      "a: 116\n",
      "c: 104\n",
      "z: 95\n",
      "l: 90\n",
      "g: 83\n",
      "b: 83\n",
      "r: 82\n",
      "e: 76\n",
      "d: 59\n",
      "-------------------------------------\n",
      "2-gram (top 20):\n",
      "yt: 115\n",
      "tn: 89\n",
      "mu: 74\n",
      "nh: 58\n",
      "vh: 57\n",
      "hn: 57\n",
      "vu: 56\n",
      "nq: 53\n",
      "xu: 52\n",
      "up: 46\n",
      "xh: 45\n",
      "yn: 44\n",
      "np: 44\n",
      "vy: 44\n",
      "nu: 42\n",
      "qy: 39\n",
      "vq: 33\n",
      "vi: 32\n",
      "gn: 32\n",
      "av: 31\n",
      "-------------------------------------\n",
      "3-gram (top 20):\n",
      "ytn: 78\n",
      "vup: 30\n",
      "mur: 20\n",
      "ynh: 18\n",
      "xzy: 16\n",
      "mxu: 14\n",
      "gnq: 14\n",
      "ytv: 13\n",
      "nqy: 13\n",
      "vii: 13\n",
      "bxh: 13\n",
      "lvq: 12\n",
      "nuy: 12\n",
      "vyn: 12\n",
      "uvy: 11\n",
      "lmu: 11\n",
      "nvh: 11\n",
      "cmu: 11\n",
      "tmq: 10\n",
      "vhp: 10\n"
     ]
    }
   ],
   "source": [
    "!python3 ./task01/freq.py"
   ]
  },
  {
   "cell_type": "markdown",
   "metadata": {},
   "source": [
    "## Solution\n",
    "Statistics above show that `n` is the most common single letter, `yt` most common bigram, and `ytn` is the most common trigram. Combined with the fact that `e` is the most common letter in the English language, `th` is the most common bigram, and `the` is the most common trigram. So we start with replacing y~T, t~H and n~E.\n",
    "\n",
    "Using these initial guesses, we spot for patterns which are meaningful English words to figure out the whole plaintext."
   ]
  },
  {
   "cell_type": "code",
   "execution_count": 222,
   "metadata": {},
   "outputs": [],
   "source": [
    "!tr ’wvupqytnmixjzrhegbdcalfso’ ’ZANDSTHEILOQUGRPBFYMCWVKJ’ < ./task01/ciphertext.txt > ./task01/plaintext.txt"
   ]
  },
  {
   "cell_type": "markdown",
   "metadata": {},
   "source": [
    "# Task 2: Encryption using Different Ciphers and Modes"
   ]
  },
  {
   "cell_type": "markdown",
   "metadata": {},
   "source": [
    "In this task, we tried 3 different ciphers: `-aes-128-cbc`, `-bf-cbc`, `-aes-128-cfb`"
   ]
  },
  {
   "cell_type": "code",
   "execution_count": 256,
   "metadata": {},
   "outputs": [],
   "source": [
    "!openssl enc -aes-128-cbc -e  -in ./task02/plaintext.txt -out ./task02/cipher1.bin -K 00112233445566778889aabbccddeeff -iv 0102030405060708\n",
    "!openssl enc -bf-cbc -e  -in ./task02/plaintext.txt -out ./task02/cipher2.bin -K 00112233445566778889aabbccddeeff -iv 0102030405060708\n",
    "!openssl enc -aes-128-cfb -e  -in ./task02/plaintext.txt -out ./task02/cipher3.bin -K 00112233445566778889aabbccddeeff -iv 0102030405060708"
   ]
  },
  {
   "cell_type": "markdown",
   "metadata": {},
   "source": [
    "# Task 3: Encryption Mode – ECB vs. CBC"
   ]
  },
  {
   "cell_type": "markdown",
   "metadata": {},
   "source": [
    "## Experiment with `pic_original.bmp`"
   ]
  },
  {
   "cell_type": "code",
   "execution_count": 254,
   "metadata": {},
   "outputs": [],
   "source": [
    "!openssl enc -aes-128-cbc -e  -in ./task03/pic_original.bmp -out ./task03/pic_cbc.bmp -K 00112233445566778889aabbccddeeff -iv 0102030405060708\n",
    "!openssl enc -aes-128-ecb -e  -in ./task03/pic_original.bmp -out ./task03/pic_ecb.bmp -K 00112233445566778889aabbccddeeff -iv 0102030405060708\n",
    "!head -c 54 ./task03/pic_original.bmp  > ./task03/header\n",
    "!tail -c +55 ./task03/pic_cbc.bmp > ./task03/body_cbc\n",
    "!tail -c +55 ./task03/pic_ecb.bmp > ./task03/body_ecb\n",
    "!cat header ./task03/body_cbc > ./task03/pic_cbc.bmp\n",
    "!cat header ./task03/body_ecb > ./task03/pic_ecb.bmp"
   ]
  },
  {
   "cell_type": "markdown",
   "metadata": {},
   "source": [
    "## Experiment with a picture of our choice `pic_custom.bmp`"
   ]
  },
  {
   "cell_type": "code",
   "execution_count": 255,
   "metadata": {},
   "outputs": [],
   "source": [
    "!openssl enc -aes-128-cbc -e  -in ./task03/pic_custom.bmp -out ./task03/pic_cbc.bmp -K 00112233445566778889aabbccddeeff -iv 0102030405060708\n",
    "!openssl enc -aes-128-ecb -e  -in ./task03/pic_custom.bmp -out ./task03/pic_ecb.bmp -K 00112233445566778889aabbccddeeff -iv 0102030405060708\n",
    "!head -c 54 ./task03/pic_custom.bmp  > ./task03/header\n",
    "!tail -c +55 ./task03/pic_cbc.bmp > ./task03/body_cbc\n",
    "!tail -c +55 ./task03/pic_ecb.bmp > ./task03/body_ecb\n",
    "!cat header ./task03/body_cbc > ./task03/pic_cbc.bmp\n",
    "!cat header ./task03/body_ecb > ./task03/pic_ecb.bmp"
   ]
  },
  {
   "cell_type": "markdown",
   "metadata": {},
   "source": [
    "## Result\n",
    "### CBC\n",
    "The encrypted picture show a randomness pattern that we can't derive any useful information.\n",
    "### ECB\n",
    "The overall image can still be discerned as each block decrypted in exactly the same way shows the same encrypted result, leaving the pattern of identically colored pixels in the original remains in the encrypted version."
   ]
  },
  {
   "cell_type": "markdown",
   "metadata": {},
   "source": [
    "# Task 4: Padding"
   ]
  },
  {
   "cell_type": "markdown",
   "metadata": {},
   "source": [
    "## Experiment"
   ]
  },
  {
   "cell_type": "markdown",
   "metadata": {},
   "source": [
    "### 5 bytes file\n",
    "<ul>\n",
    "<li>ECB, CBC: 5 bytes -> 16 bytes\n",
    "<li>CFB, OFB: 5 bytes -> 5 bytes\n",
    "</ul>"
   ]
  },
  {
   "cell_type": "code",
   "execution_count": 274,
   "metadata": {},
   "outputs": [
    {
     "name": "stdout",
     "output_type": "stream",
     "text": [
      "00000000: 3132 3334 350b 0b0b 0b0b 0b0b 0b0b 0b0b  12345...........\n"
     ]
    }
   ],
   "source": [
    "!echo -n \"12345\" > ./task04/f1.txt\n",
    "!openssl enc -aes-128-cbc -e  -in ./task04/f1.txt -out ./task04/e1.txt -K 00112233445566778889aabbccddeeff -iv 0102030405060708\n",
    "!openssl enc -aes-128-cbc -d  -in ./task04/e1.txt -out ./task04/p1.txt -K 00112233445566778889aabbccddeeff -iv 0102030405060708 -nopad\n",
    "!xxd ./task04/p1.txt "
   ]
  },
  {
   "cell_type": "markdown",
   "metadata": {},
   "source": [
    "### 10 bytes file\n",
    "<ul>\n",
    "<li>ECB, CBC: 10 bytes -> 16 bytes\n",
    "<li>CFB, OFB: 10 bytes -> 10 bytes\n",
    "</ul>"
   ]
  },
  {
   "cell_type": "code",
   "execution_count": 263,
   "metadata": {},
   "outputs": [
    {
     "name": "stdout",
     "output_type": "stream",
     "text": [
      "00000000: 3132 3334 3561 6263 6465 0606 0606 0606  12345abcde......\n"
     ]
    }
   ],
   "source": [
    "!echo -n \"12345abcde\" > ./task04/f1.txt\n",
    "!openssl enc -aes-128-cbc -e  -in ./task04/f1.txt -out ./task04/e1.txt -K 00112233445566778889aabbccddeeff -iv 0102030405060708\n",
    "!openssl enc -aes-128-cbc -d  -in ./task04/e1.txt -out ./task04/p1.txt -K 00112233445566778889aabbccddeeff -iv 0102030405060708 -nopad\n",
    "!xxd ./task04/p1.txt "
   ]
  },
  {
   "cell_type": "markdown",
   "metadata": {},
   "source": [
    "### 16 bytes file\n",
    "<ul>\n",
    "<li>ECB, CBC: 16 bytes -> 32 bytes\n",
    "<li>CFB, OFB: 16 bytes -> 32 bytes\n",
    "</ul>"
   ]
  },
  {
   "cell_type": "code",
   "execution_count": 264,
   "metadata": {},
   "outputs": [
    {
     "name": "stdout",
     "output_type": "stream",
     "text": [
      "00000000: 3132 3334 3561 6263 6465 6667 6869 6a6b  12345abcdefghijk\n",
      "00000010: 1010 1010 1010 1010 1010 1010 1010 1010  ................\n"
     ]
    }
   ],
   "source": [
    "!echo -n \"12345abcdefghijk\" > ./task04/f1.txt\n",
    "!openssl enc -aes-128-cbc -e  -in ./task04/f1.txt -out ./task04/e1.txt -K 00112233445566778889aabbccddeeff -iv 0102030405060708\n",
    "!openssl enc -aes-128-cbc -d  -in ./task04/e1.txt -out ./task04/p1.txt -K 00112233445566778889aabbccddeeff -iv 0102030405060708 -nopad\n",
    "!xxd ./task04/p1.txt "
   ]
  },
  {
   "cell_type": "markdown",
   "metadata": {},
   "source": [
    "## Conclusion\n",
    "\n",
    "<ul>\n",
    "<li>Padding is needed for ECB and CBC encryption modes because their inputs contain number of blocks, thus padding could ensure that. Block size depends on the algorithm: AES uses 16 byte blocks while Blowfish and 3DES use 8-byte blocks.\n",
    "\n",
    "<li>There is no need padding for encryption mode CFB and OFB because they are stream ciphers, in which the size of the block is usually fixed (one character).\n",
    "</ul>"
   ]
  },
  {
   "cell_type": "markdown",
   "metadata": {},
   "source": [
    "# Task 5: Error Propagation – Corrupted Cipher Text"
   ]
  },
  {
   "cell_type": "code",
   "execution_count": 270,
   "metadata": {},
   "outputs": [
    {
     "name": "stdout",
     "output_type": "stream",
     "text": [
      "00000000: 7465 7374 0a74 6573 740a 7465 7374 0a74  test.test.test.t\n",
      "00000010: 6573 740a 7465 7374 0a74 6573 740a 7465  est.test.test.te\n",
      "00000020: 7374 0a74 6573 740a 7465 7374 0a74 6573  st.test.test.tes\n",
      "00000030: 83f2 f365 a608 80ac ebfe b6ca 37ef 479d  ...e........7.G.\n",
      "00000040: 0a74 6573 740a 7365 7374 0a74 6573 740a  .test.sest.test.\n",
      "00000050: 7465 7374 0a74 6573 740a 7465 7374 0a74  test.test.test.t\n",
      "00000060: 6573 740a 7465 7374 0a74 6573 740a 7465  est.test.test.te\n",
      "00000070: 7374 0a74 6573 740a 7465 7374 0a74 6573  st.test.test.tes\n",
      "00000080: 740a 7465 7374 0a74 6573 740a 7465 7374  t.test.test.test\n",
      "00000090: 0a74 6573 740a 7465 7374 0a74 6573 740a  .test.test.test.\n",
      "000000a0: 7465 7374 0a74 6573 740a 7465 7374 0a74  test.test.test.t\n",
      "000000b0: 6573 740a 7465 7374 0a74 6573 740a 7465  est.test.test.te\n",
      "000000c0: 7374 0a74 6573 740a 7465 7374 0a74 6573  st.test.test.tes\n",
      "000000d0: 740a 7465 7374 0a74 6573 740a 7465 7374  t.test.test.test\n",
      "000000e0: 0a74 6573 740a 7465 7374 0a74 6573 740a  .test.test.test.\n",
      "000000f0: 7465 7374 0a74 6573 740a 7465 7374 0a74  test.test.test.t\n",
      "00000100: 6573 740a 7465 7374 0a74 6573 740a 7465  est.test.test.te\n",
      "00000110: 7374 0a74 6573 740a 7465 7374 0a74 6573  st.test.test.tes\n",
      "00000120: 740a 7465 7374 0a74 6573 740a 7465 7374  t.test.test.test\n",
      "00000130: 0a74 6573 740a 7465 7374 0a74 6573 740a  .test.test.test.\n",
      "00000140: 7465 7374 0a74 6573 740a 7465 7374 0a74  test.test.test.t\n",
      "00000150: 6573 740a 7465 7374 0a74 6573 740a 7465  est.test.test.te\n",
      "00000160: 7374 0a74 6573 740a 7465 7374 0a74 6573  st.test.test.tes\n",
      "00000170: 740a 7465 7374 0a74 6573 740a 7465 7374  t.test.test.test\n",
      "00000180: 0a74 6573 740a 7465 7374 0a74 6573 740a  .test.test.test.\n",
      "00000190: 7465 7374 0a74 6573 740a 7465 7374 0a74  test.test.test.t\n",
      "000001a0: 6573 740a 7465 7374 0a74 6573 740a 7465  est.test.test.te\n",
      "000001b0: 7374 0a74 6573 740a 7465 7374 0a74 6573  st.test.test.tes\n",
      "000001c0: 740a 7465 7374 0a74 6573 740a 7465 7374  t.test.test.test\n",
      "000001d0: 0a74 6573 740a 7465 7374 0a74 6573 740a  .test.test.test.\n",
      "000001e0: 7465 7374 0a74 6573 740a 7465 7374 0a74  test.test.test.t\n",
      "000001f0: 6573 740a 7465 7374 0a74 6573 740a 7465  est.test.test.te\n",
      "00000200: 7374 0a74 6573 740a 7465 7374 0a74 6573  st.test.test.tes\n",
      "00000210: 740a 7465 7374 0a74 6573 740a 7465 7374  t.test.test.test\n",
      "00000220: 0a74 6573 740a 7465 7374 0a74 6573 740a  .test.test.test.\n",
      "00000230: 7465 7374 0a74 6573 740a 7465 7374 0a74  test.test.test.t\n",
      "00000240: 6573 740a 7465 7374 0a74 6573 740a 7465  est.test.test.te\n",
      "00000250: 7374 0a74 6573 740a 7465 7374 0a74 6573  st.test.test.tes\n",
      "00000260: 740a 7465 7374 0a74 6573 740a 7465 7374  t.test.test.test\n",
      "00000270: 0a74 6573 740a 7465 7374 0a74 6573 740a  .test.test.test.\n",
      "00000280: 7465 7374 0a74 6573 740a 7465 7374 0a74  test.test.test.t\n",
      "00000290: 6573 740a 7465 7374 0a74 6573 740a 7465  est.test.test.te\n",
      "000002a0: 7374 0a74 6573 740a 7465 7374 0a74 6573  st.test.test.tes\n",
      "000002b0: 740a 7465 7374 0a74 6573 740a 7465 7374  t.test.test.test\n",
      "000002c0: 0a74 6573 740a 7465 7374 0a74 6573 740a  .test.test.test.\n",
      "000002d0: 7465 7374 0a74 6573 740a 7465 7374 0a74  test.test.test.t\n",
      "000002e0: 6573 740a 7465 7374 0a74 6573 740a 7465  est.test.test.te\n",
      "000002f0: 7374 0a74 6573 740a 7465 7374 0a74 6573  st.test.test.tes\n",
      "00000300: 740a 7465 7374 0a74 6573 740a 7465 7374  t.test.test.test\n",
      "00000310: 0a74 6573 740a 7465 7374 0a74 6573 740a  .test.test.test.\n",
      "00000320: 7465 7374 0a74 6573 740a 7465 7374 0a74  test.test.test.t\n",
      "00000330: 6573 740a 7465 7374 0a74 6573 740a 7465  est.test.test.te\n",
      "00000340: 7374 0a74 6573 740a 7465 7374 0a74 6573  st.test.test.tes\n",
      "00000350: 740a 7465 7374 0a74 6573 740a 7465 7374  t.test.test.test\n",
      "00000360: 0a74 6573 740a 7465 7374 0a74 6573 740a  .test.test.test.\n",
      "00000370: 7465 7374 0a74 6573 740a 7465 7374 0a74  test.test.test.t\n",
      "00000380: 6573 740a 7465 7374 0a74 6573 740a 7465  est.test.test.te\n",
      "00000390: 7374 0a74 6573 740a 7465 7374 0a74 6573  st.test.test.tes\n",
      "000003a0: 740a 7465 7374 0a74 6573 740a 7465 7374  t.test.test.test\n",
      "000003b0: 0a74 6573 740a 7465 7374 0a74 6573 740a  .test.test.test.\n",
      "000003c0: 7465 7374 0a74 6573 740a 7465 7374 0a74  test.test.test.t\n",
      "000003d0: 6573 740a 7465 7374 0a74 6573 740a 7465  est.test.test.te\n",
      "000003e0: 7374 0a74 6573 740a                      st.test.\n"
     ]
    }
   ],
   "source": [
    "# task 05\n",
    "!openssl enc -aes-128-cbc -e  -in ./task05/1000bytes.txt -out ./task05/E1000bytes.txt -K 00112233445566778889aabbccddeeff -iv 0102030405060708\n",
    "!echo -n -e '\\x00' > ./task05/corrupted_byte\n",
    "!head -c 54 ./task05/E1000bytes.txt  > ./task05/head\n",
    "!tail -c +56 ./task05/E1000bytes.txt > ./task05/tail\n",
    "!cat ./task05/head ./task05/corrupted_byte ./task05/tail > ./task05/CE1000bytes.txt\n",
    "!openssl enc -aes-128-cbc -d  -in ./task05/CE1000bytes.txt -out ./task05/P1000bytes.txt -K 00112233445566778889aabbccddeeff -iv 0102030405060708 \n",
    "!xxd ./task05/P1000bytes.txt\n",
    "# 00000020: 7374 0a74 6573 740a 7465 7374 0a74 6573  st.test.test.tes\n",
    "# 00000030: 740a 7465 7374 0a74 6573 740a 7465 7374  t.test.test.test\n",
    "# 00000040: 0a74 6573 740a 7465 7374 0a74 6573 740a  .test.test.test.\n",
    "# 00000050: 7465 7374 0a74 6573 740a 7465 7374 0a74  test.test.test.t\n",
    "# !xxd P1000bytes.txt\n",
    "# cbc\n",
    "# 00000020: 7374 0a74 6573 740a 7465 7374 0a74 6573  st.test.test.tes\n",
    "# 00000030: 83f2 f365 a608 80ac ebfe b6ca 37ef 479d  ...e........7.G.\n",
    "# 00000040: 0a74 6573 740a 7365 7374 0a74 6573 740a  .test.sest.test.\n",
    "# ecb\n",
    "# 00000020: 7374 0a74 6573 740a 7465 7374 0a74 6573  st.test.test.tes\n",
    "# 00000030: 3717 6fd3 574b 6fca deeb c68e 7b87 f39d  7.o.WKo.....{...\n",
    "# 00000040: 0a74 6573 740a 7465 7374 0a74 6573 740a  .test.test.test.\n",
    "# cfb\n",
    "# 00000020: 7374 0a74 6573 740a 7465 7374 0a74 6573  st.test.test.tes\n",
    "# 00000030: 740a 7465 7374 3074 6573 740a 7465 7374  t.test0test.test\n",
    "# 00000040: 4b9c 84ad efef d97c 47e2 9685 2782 4f11  K......|G...'.O.\n",
    "# 00000050: 7465 7374 0a74 6573 740a 7465 7374 0a74  test.test.test.t\n",
    "# ofb\n",
    "# 00000020: 7374 0a74 6573 740a 7465 7374 0a74 6573  st.test.test.tes\n",
    "# 00000030: 740a 7465 7374 e574 6573 740a 7465 7374  t.test.test.test\n",
    "# 00000040: 0a74 6573 740a 7465 7374 0a74 6573 740a  .test.test.test.\n"
   ]
  },
  {
   "cell_type": "markdown",
   "metadata": {},
   "source": [
    "# Task 7: Programming using the Crypto Library"
   ]
  },
  {
   "cell_type": "code",
   "execution_count": 272,
   "metadata": {},
   "outputs": [
    {
     "name": "stdout",
     "output_type": "stream",
     "text": [
      "Plaintext:  Top secret: KQKT\n",
      "Ciphertext:  5350819e19ee6178a4fdf10bc6ce2c2e\n",
      "Initial vector:  010203040506070809000a0b0c0d0e0f\n",
      "Secrect key:  436f77616e2323232323232323232323\n",
      "Key found:  Cowan###########\n"
     ]
    }
   ],
   "source": [
    "import random\n",
    "from Crypto.Cipher import AES\n",
    "\n",
    "def getKeyList():\n",
    "    f = open(\"./task07/words.txt\", \"r\")\n",
    "    words = f.read().split('\\n')\n",
    "    keys = []\n",
    "    for i in range(len(words)):\n",
    "        if len(words[i]) <= 16:\n",
    "            keys.append(words[i].ljust(16, '#'))\n",
    "    return keys\n",
    "\n",
    "# Initialize test case\n",
    "keys = getKeyList()\n",
    "plaintext = \"Top secret: KQKT\"\n",
    "key = random.choice(keys)\n",
    "iv = bytes.fromhex('010203040506070809000a0b0c0d0e0f')\n",
    "\n",
    "# Encrypt\n",
    "obj = AES.new(key, AES.MODE_CBC, iv)\n",
    "ciphertext = obj.encrypt(plaintext)\n",
    "print('Plaintext: ', plaintext)\n",
    "print('Ciphertext: ', ciphertext.hex())\n",
    "print('Initial vector: ', iv.hex())\n",
    "print('Secrect key: ', key.encode('utf-8').hex())\n",
    "\n",
    "# Decrypt\n",
    "for key in keys: \n",
    "    obj2 = AES.new(key, AES.MODE_CBC, iv)\n",
    "    encypted = obj2.encrypt(plaintext)\n",
    "    if ciphertext == encypted:\n",
    "        print('Key found: ', key)\n"
   ]
  }
 ],
 "metadata": {
  "kernelspec": {
   "display_name": "Python 3.8.9 64-bit",
   "language": "python",
   "name": "python3"
  },
  "language_info": {
   "codemirror_mode": {
    "name": "ipython",
    "version": 3
   },
   "file_extension": ".py",
   "mimetype": "text/x-python",
   "name": "python",
   "nbconvert_exporter": "python",
   "pygments_lexer": "ipython3",
   "version": "3.8.9"
  },
  "orig_nbformat": 4,
  "vscode": {
   "interpreter": {
    "hash": "31f2aee4e71d21fbe5cf8b01ff0e069b9275f58929596ceb00d14d90e3e16cd6"
   }
  }
 },
 "nbformat": 4,
 "nbformat_minor": 2
}
