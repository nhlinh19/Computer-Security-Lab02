{
 "cells": [
  {
   "cell_type": "markdown",
   "metadata": {},
   "source": [
    "# Task 1: Frequency Analysis"
   ]
  },
  {
   "cell_type": "markdown",
   "metadata": {},
   "source": [
    "## Statistics for n-grams"
   ]
  },
  {
   "cell_type": "code",
   "execution_count": 248,
   "metadata": {},
   "outputs": [
    {
     "name": "stdout",
     "output_type": "stream",
     "text": [
      "-------------------------------------\n",
      "1-gram (top 20):\n",
      "n: 488\n",
      "y: 373\n",
      "v: 348\n",
      "x: 291\n",
      "u: 280\n",
      "q: 276\n",
      "m: 264\n",
      "h: 235\n",
      "t: 183\n",
      "i: 166\n",
      "p: 156\n",
      "a: 116\n",
      "c: 104\n",
      "z: 95\n",
      "l: 90\n",
      "g: 83\n",
      "b: 83\n",
      "r: 82\n",
      "e: 76\n",
      "d: 59\n",
      "-------------------------------------\n",
      "2-gram (top 20):\n",
      "yt: 115\n",
      "tn: 89\n",
      "mu: 74\n",
      "nh: 58\n",
      "vh: 57\n",
      "hn: 57\n",
      "vu: 56\n",
      "nq: 53\n",
      "xu: 52\n",
      "up: 46\n",
      "xh: 45\n",
      "yn: 44\n",
      "np: 44\n",
      "vy: 44\n",
      "nu: 42\n",
      "qy: 39\n",
      "vq: 33\n",
      "vi: 32\n",
      "gn: 32\n",
      "av: 31\n",
      "-------------------------------------\n",
      "3-gram (top 20):\n",
      "ytn: 78\n",
      "vup: 30\n",
      "mur: 20\n",
      "ynh: 18\n",
      "xzy: 16\n",
      "mxu: 14\n",
      "gnq: 14\n",
      "ytv: 13\n",
      "nqy: 13\n",
      "vii: 13\n",
      "bxh: 13\n",
      "lvq: 12\n",
      "nuy: 12\n",
      "vyn: 12\n",
      "uvy: 11\n",
      "lmu: 11\n",
      "nvh: 11\n",
      "cmu: 11\n",
      "tmq: 10\n",
      "vhp: 10\n"
     ]
    }
   ],
   "source": [
    "!python3 ./task01/freq.py"
   ]
  },
  {
   "cell_type": "markdown",
   "metadata": {},
   "source": [
    "## Solution\n",
    "Statistics above show that `n` is the most common single letter, `yt` most common bigram, and `ytn` is the most common trigram. Combined with the fact that `e` is the most common letter in the English language, `th` is the most common bigram, and `the` is the most common trigram. So we start with replacing y~T, t~H and n~E.\n",
    "\n",
    "Using these initial guesses, we spot for patterns which are meaningful English words to figure out the whole plaintext."
   ]
  },
  {
   "cell_type": "code",
   "execution_count": 222,
   "metadata": {},
   "outputs": [],
   "source": [
    "!tr ’wvupqytnmixjzrhegbdcalfso’ ’ZANDSTHEILOQUGRPBFYMCWVKJ’ < ./task01/ciphertext.txt > ./task01/plaintext.txt"
   ]
  },
  {
   "cell_type": "markdown",
   "metadata": {},
   "source": [
    "# Task 2: Encryption using Different Ciphers and Modes"
   ]
  },
  {
   "cell_type": "markdown",
   "metadata": {},
   "source": [
    "In this task, we tried 3 different ciphers: `-aes-128-cbc`, `-bf-cbc`, `-aes-128-cfb`"
   ]
  },
  {
   "cell_type": "code",
   "execution_count": 256,
   "metadata": {},
   "outputs": [],
   "source": [
    "!openssl enc -aes-128-cbc -e  -in ./task02/plaintext.txt -out ./task02/cipher1.bin -K 00112233445566778889aabbccddeeff -iv 0102030405060708\n",
    "!openssl enc -bf-cbc -e  -in ./task02/plaintext.txt -out ./task02/cipher2.bin -K 00112233445566778889aabbccddeeff -iv 0102030405060708\n",
    "!openssl enc -aes-128-cfb -e  -in ./task02/plaintext.txt -out ./task02/cipher3.bin -K 00112233445566778889aabbccddeeff -iv 0102030405060708"
   ]
  },
  {
   "cell_type": "markdown",
   "metadata": {},
   "source": [
    "# Task 3: Encryption Mode – ECB vs. CBC"
   ]
  },
  {
   "cell_type": "markdown",
   "metadata": {},
   "source": [
    "## Experiment with `pic_original.bmp`"
   ]
  },
  {
   "cell_type": "code",
   "execution_count": 254,
   "metadata": {},
   "outputs": [],
   "source": [
    "!openssl enc -aes-128-cbc -e  -in ./task03/pic_original.bmp -out ./task03/pic_cbc.bmp -K 00112233445566778889aabbccddeeff -iv 0102030405060708\n",
    "!openssl enc -aes-128-ecb -e  -in ./task03/pic_original.bmp -out ./task03/pic_ecb.bmp -K 00112233445566778889aabbccddeeff -iv 0102030405060708\n",
    "!head -c 54 ./task03/pic_original.bmp  > ./task03/header\n",
    "!tail -c +55 ./task03/pic_cbc.bmp > ./task03/body_cbc\n",
    "!tail -c +55 ./task03/pic_ecb.bmp > ./task03/body_ecb\n",
    "!cat header ./task03/body_cbc > ./task03/pic_cbc.bmp\n",
    "!cat header ./task03/body_ecb > ./task03/pic_ecb.bmp"
   ]
  },
  {
   "cell_type": "markdown",
   "metadata": {},
   "source": [
    "## Experiment with a picture of our choice `pic_custom.bmp`"
   ]
  },
  {
   "cell_type": "code",
   "execution_count": 255,
   "metadata": {},
   "outputs": [],
   "source": [
    "!openssl enc -aes-128-cbc -e  -in ./task03/pic_custom.bmp -out ./task03/pic_cbc.bmp -K 00112233445566778889aabbccddeeff -iv 0102030405060708\n",
    "!openssl enc -aes-128-ecb -e  -in ./task03/pic_custom.bmp -out ./task03/pic_ecb.bmp -K 00112233445566778889aabbccddeeff -iv 0102030405060708\n",
    "!head -c 54 ./task03/pic_custom.bmp  > ./task03/header\n",
    "!tail -c +55 ./task03/pic_cbc.bmp > ./task03/body_cbc\n",
    "!tail -c +55 ./task03/pic_ecb.bmp > ./task03/body_ecb\n",
    "!cat header ./task03/body_cbc > ./task03/pic_cbc.bmp\n",
    "!cat header ./task03/body_ecb > ./task03/pic_ecb.bmp"
   ]
  },
  {
   "cell_type": "markdown",
   "metadata": {},
   "source": [
    "## Result\n",
    "### CBC\n",
    "The encrypted picture show a randomness pattern that we can't derive any useful information.\n",
    "### ECB\n",
    "The overall image can still be discerned as each block decrypted in exactly the same way shows the same encrypted result, leaving the pattern of identically colored pixels in the original remains in the encrypted version."
   ]
  },
  {
   "cell_type": "markdown",
   "metadata": {},
   "source": [
    "# Task 4: Padding"
   ]
  },
  {
   "cell_type": "markdown",
   "metadata": {},
   "source": [
    "## Experiment"
   ]
  },
  {
   "cell_type": "markdown",
   "metadata": {},
   "source": [
    "### 5 bytes file\n",
    "<ul>\n",
    "<li>ECB, CBC: 5 bytes -> 16 bytes\n",
    "<li>CFB, OFB: 5 bytes -> 5 bytes\n",
    "</ul>"
   ]
  },
  {
   "cell_type": "code",
   "execution_count": 274,
   "metadata": {},
   "outputs": [
    {
     "name": "stdout",
     "output_type": "stream",
     "text": [
      "00000000: 3132 3334 350b 0b0b 0b0b 0b0b 0b0b 0b0b  12345...........\n"
     ]
    }
   ],
   "source": [
    "!echo -n \"12345\" > ./task04/f1.txt\n",
    "!openssl enc -aes-128-cbc -e  -in ./task04/f1.txt -out ./task04/e1.txt -K 00112233445566778889aabbccddeeff -iv 0102030405060708\n",
    "!openssl enc -aes-128-cbc -d  -in ./task04/e1.txt -out ./task04/p1.txt -K 00112233445566778889aabbccddeeff -iv 0102030405060708 -nopad\n",
    "!xxd ./task04/p1.txt "
   ]
  },
  {
   "cell_type": "markdown",
   "metadata": {},
   "source": [
    "### 10 bytes file\n",
    "<ul>\n",
    "<li>ECB, CBC: 10 bytes -> 16 bytes\n",
    "<li>CFB, OFB: 10 bytes -> 10 bytes\n",
    "</ul>"
   ]
  },
  {
   "cell_type": "code",
   "execution_count": 263,
   "metadata": {},
   "outputs": [
    {
     "name": "stdout",
     "output_type": "stream",
     "text": [
      "00000000: 3132 3334 3561 6263 6465 0606 0606 0606  12345abcde......\n"
     ]
    }
   ],
   "source": [
    "!echo -n \"12345abcde\" > ./task04/f1.txt\n",
    "!openssl enc -aes-128-cbc -e  -in ./task04/f1.txt -out ./task04/e1.txt -K 00112233445566778889aabbccddeeff -iv 0102030405060708\n",
    "!openssl enc -aes-128-cbc -d  -in ./task04/e1.txt -out ./task04/p1.txt -K 00112233445566778889aabbccddeeff -iv 0102030405060708 -nopad\n",
    "!xxd ./task04/p1.txt "
   ]
  },
  {
   "cell_type": "markdown",
   "metadata": {},
   "source": [
    "### 16 bytes file\n",
    "<ul>\n",
    "<li>ECB, CBC: 16 bytes -> 32 bytes\n",
    "<li>CFB, OFB: 16 bytes -> 32 bytes\n",
    "</ul>"
   ]
  },
  {
   "cell_type": "code",
   "execution_count": 264,
   "metadata": {},
   "outputs": [
    {
     "name": "stdout",
     "output_type": "stream",
     "text": [
      "00000000: 3132 3334 3561 6263 6465 6667 6869 6a6b  12345abcdefghijk\n",
      "00000010: 1010 1010 1010 1010 1010 1010 1010 1010  ................\n"
     ]
    }
   ],
   "source": [
    "!echo -n \"12345abcdefghijk\" > ./task04/f1.txt\n",
    "!openssl enc -aes-128-cbc -e  -in ./task04/f1.txt -out ./task04/e1.txt -K 00112233445566778889aabbccddeeff -iv 0102030405060708\n",
    "!openssl enc -aes-128-cbc -d  -in ./task04/e1.txt -out ./task04/p1.txt -K 00112233445566778889aabbccddeeff -iv 0102030405060708 -nopad\n",
    "!xxd ./task04/p1.txt "
   ]
  },
  {
   "cell_type": "markdown",
   "metadata": {},
   "source": [
    "## Conclusion\n",
    "\n",
    "<ul>\n",
    "<li>Padding is needed for ECB and CBC encryption modes because their inputs contain number of blocks, thus padding could ensure that. Block size depends on the algorithm: AES uses 16 byte blocks while Blowfish and 3DES use 8-byte blocks.\n",
    "\n",
    "<li>There is no need padding for encryption mode CFB and OFB because they are stream ciphers, in which the size of the block is usually fixed (one character).\n",
    "</ul>"
   ]
  },
  {
   "cell_type": "markdown",
   "metadata": {},
   "source": [
    "# Task 5: Error Propagation – Corrupted Cipher Text"
   ]
  },
  {
   "cell_type": "code",
   "execution_count": 3,
   "metadata": {},
   "outputs": [
    {
     "name": "stdout",
     "output_type": "stream",
     "text": [
      "hex string is too short, padding with zero bytes to length\n",
      "hex string is too short, padding with zero bytes to length\n",
      "00000000: 7465 7374 0a74 6573 740a 7465 7374 0a74  test.test.test.t\n",
      "00000010: 6573 740a 7465 7374 0a74 6573 740a 7465  est.test.test.te\n",
      "00000020: 7374 0a74 6573 740a 7465 7374 0a74 6573  st.test.test.tes\n",
      "00000030: 83f2 f365 a608 80ac ebfe b6ca 37ef 479d  ...e........7.G.\n",
      "00000040: 0a74 6573 740a 7365 7374 0a74 6573 740a  .test.sest.test.\n",
      "00000050: 7465 7374 0a74 6573 740a 7465 7374 0a74  test.test.test.t\n",
      "00000060: 6573 740a 7465 7374 0a74 6573 740a 7465  est.test.test.te\n",
      "00000070: 7374 0a74 6573 740a 7465 7374 0a74 6573  st.test.test.tes\n",
      "00000080: 740a 7465 7374 0a74 6573 740a 7465 7374  t.test.test.test\n",
      "00000090: 0a74 6573 740a 7465 7374 0a74 6573 740a  .test.test.test.\n",
      "000000a0: 7465 7374 0a74 6573 740a 7465 7374 0a74  test.test.test.t\n",
      "000000b0: 6573 740a 7465 7374 0a74 6573 740a 7465  est.test.test.te\n",
      "000000c0: 7374 0a74 6573 740a 7465 7374 0a74 6573  st.test.test.tes\n",
      "000000d0: 740a 7465 7374 0a74 6573 740a 7465 7374  t.test.test.test\n",
      "000000e0: 0a74 6573 740a 7465 7374 0a74 6573 740a  .test.test.test.\n",
      "000000f0: 7465 7374 0a74 6573 740a 7465 7374 0a74  test.test.test.t\n",
      "00000100: 6573 740a 7465 7374 0a74 6573 740a 7465  est.test.test.te\n",
      "00000110: 7374 0a74 6573 740a 7465 7374 0a74 6573  st.test.test.tes\n",
      "00000120: 740a 7465 7374 0a74 6573 740a 7465 7374  t.test.test.test\n",
      "00000130: 0a74 6573 740a 7465 7374 0a74 6573 740a  .test.test.test.\n",
      "00000140: 7465 7374 0a74 6573 740a 7465 7374 0a74  test.test.test.t\n",
      "00000150: 6573 740a 7465 7374 0a74 6573 740a 7465  est.test.test.te\n",
      "00000160: 7374 0a74 6573 740a 7465 7374 0a74 6573  st.test.test.tes\n",
      "00000170: 740a 7465 7374 0a74 6573 740a 7465 7374  t.test.test.test\n",
      "00000180: 0a74 6573 740a 7465 7374 0a74 6573 740a  .test.test.test.\n",
      "00000190: 7465 7374 0a74 6573 740a 7465 7374 0a74  test.test.test.t\n",
      "000001a0: 6573 740a 7465 7374 0a74 6573 740a 7465  est.test.test.te\n",
      "000001b0: 7374 0a74 6573 740a 7465 7374 0a74 6573  st.test.test.tes\n",
      "000001c0: 740a 7465 7374 0a74 6573 740a 7465 7374  t.test.test.test\n",
      "000001d0: 0a74 6573 740a 7465 7374 0a74 6573 740a  .test.test.test.\n",
      "000001e0: 7465 7374 0a74 6573 740a 7465 7374 0a74  test.test.test.t\n",
      "000001f0: 6573 740a 7465 7374 0a74 6573 740a 7465  est.test.test.te\n",
      "00000200: 7374 0a74 6573 740a 7465 7374 0a74 6573  st.test.test.tes\n",
      "00000210: 740a 7465 7374 0a74 6573 740a 7465 7374  t.test.test.test\n",
      "00000220: 0a74 6573 740a 7465 7374 0a74 6573 740a  .test.test.test.\n",
      "00000230: 7465 7374 0a74 6573 740a 7465 7374 0a74  test.test.test.t\n",
      "00000240: 6573 740a 7465 7374 0a74 6573 740a 7465  est.test.test.te\n",
      "00000250: 7374 0a74 6573 740a 7465 7374 0a74 6573  st.test.test.tes\n",
      "00000260: 740a 7465 7374 0a74 6573 740a 7465 7374  t.test.test.test\n",
      "00000270: 0a74 6573 740a 7465 7374 0a74 6573 740a  .test.test.test.\n",
      "00000280: 7465 7374 0a74 6573 740a 7465 7374 0a74  test.test.test.t\n",
      "00000290: 6573 740a 7465 7374 0a74 6573 740a 7465  est.test.test.te\n",
      "000002a0: 7374 0a74 6573 740a 7465 7374 0a74 6573  st.test.test.tes\n",
      "000002b0: 740a 7465 7374 0a74 6573 740a 7465 7374  t.test.test.test\n",
      "000002c0: 0a74 6573 740a 7465 7374 0a74 6573 740a  .test.test.test.\n",
      "000002d0: 7465 7374 0a74 6573 740a 7465 7374 0a74  test.test.test.t\n",
      "000002e0: 6573 740a 7465 7374 0a74 6573 740a 7465  est.test.test.te\n",
      "000002f0: 7374 0a74 6573 740a 7465 7374 0a74 6573  st.test.test.tes\n",
      "00000300: 740a 7465 7374 0a74 6573 740a 7465 7374  t.test.test.test\n",
      "00000310: 0a74 6573 740a 7465 7374 0a74 6573 740a  .test.test.test.\n",
      "00000320: 7465 7374 0a74 6573 740a 7465 7374 0a74  test.test.test.t\n",
      "00000330: 6573 740a 7465 7374 0a74 6573 740a 7465  est.test.test.te\n",
      "00000340: 7374 0a74 6573 740a 7465 7374 0a74 6573  st.test.test.tes\n",
      "00000350: 740a 7465 7374 0a74 6573 740a 7465 7374  t.test.test.test\n",
      "00000360: 0a74 6573 740a 7465 7374 0a74 6573 740a  .test.test.test.\n",
      "00000370: 7465 7374 0a74 6573 740a 7465 7374 0a74  test.test.test.t\n",
      "00000380: 6573 740a 7465 7374 0a74 6573 740a 7465  est.test.test.te\n",
      "00000390: 7374 0a74 6573 740a 7465 7374 0a74 6573  st.test.test.tes\n",
      "000003a0: 740a 7465 7374 0a74 6573 740a 7465 7374  t.test.test.test\n",
      "000003b0: 0a74 6573 740a 7465 7374 0a74 6573 740a  .test.test.test.\n",
      "000003c0: 7465 7374 0a74 6573 740a 7465 7374 0a74  test.test.test.t\n",
      "000003d0: 6573 740a 7465 7374 0a74 6573 740a 7465  est.test.test.te\n",
      "000003e0: 7374 0a74 6573 740a                      st.test.\n"
     ]
    }
   ],
   "source": [
    "# task 05\n",
    "!openssl enc -aes-128-cbc -e  -in ./task05/1000bytes.txt -out ./task05/E1000bytes.txt -K 00112233445566778889aabbccddeeff -iv 0102030405060708\n",
    "!echo -n -e '\\x00' > ./task05/corrupted_byte\n",
    "!head -c 54 ./task05/E1000bytes.txt  > ./task05/head\n",
    "!tail -c +56 ./task05/E1000bytes.txt > ./task05/tail\n",
    "!cat ./task05/head ./task05/corrupted_byte ./task05/tail > ./task05/CE1000bytes.txt\n",
    "!openssl enc -aes-128-cbc -d  -in ./task05/CE1000bytes.txt -out ./task05/P1000bytes.txt -K 00112233445566778889aabbccddeeff -iv 0102030405060708 \n",
    "!xxd ./task05/P1000bytes.txt\n",
    "# 00000020: 7374 0a74 6573 740a 7465 7374 0a74 6573  st.test.test.tes\n",
    "# 00000030: 740a 7465 7374 0a74 6573 740a 7465 7374  t.test.test.test\n",
    "# 00000040: 0a74 6573 740a 7465 7374 0a74 6573 740a  .test.test.test.\n",
    "# 00000050: 7465 7374 0a74 6573 740a 7465 7374 0a74  test.test.test.t\n",
    "# !xxd P1000bytes.txt\n",
    "# cbc\n",
    "# 00000020: 7374 0a74 6573 740a 7465 7374 0a74 6573  st.test.test.tes\n",
    "# 00000030: 83f2 f365 a608 80ac ebfe b6ca 37ef 479d  ...e........7.G.\n",
    "# 00000040: 0a74 6573 740a 7365 7374 0a74 6573 740a  .test.sest.test.\n",
    "# ecb\n",
    "# 00000020: 7374 0a74 6573 740a 7465 7374 0a74 6573  st.test.test.tes\n",
    "# 00000030: 3717 6fd3 574b 6fca deeb c68e 7b87 f39d  7.o.WKo.....{...\n",
    "# 00000040: 0a74 6573 740a 7465 7374 0a74 6573 740a  .test.test.test.\n",
    "# cfb\n",
    "# 00000020: 7374 0a74 6573 740a 7465 7374 0a74 6573  st.test.test.tes\n",
    "# 00000030: 740a 7465 7374 3074 6573 740a 7465 7374  t.test0test.test\n",
    "# 00000040: 4b9c 84ad efef d97c 47e2 9685 2782 4f11  K......|G...'.O.\n",
    "# 00000050: 7465 7374 0a74 6573 740a 7465 7374 0a74  test.test.test.t\n",
    "# ofb\n",
    "# 00000020: 7374 0a74 6573 740a 7465 7374 0a74 6573  st.test.test.tes\n",
    "# 00000030: 740a 7465 7374 e574 6573 740a 7465 7374  t.test.test.test\n",
    "# 00000040: 0a74 6573 740a 7465 7374 0a74 6573 740a  .test.test.test.\n"
   ]
  },
  {
   "cell_type": "markdown",
   "metadata": {},
   "source": [
    "# Task 6: Initial Vector (IV) and common mistakes"
   ]
  },
  {
   "cell_type": "markdown",
   "metadata": {},
   "source": [
    "## 6.1: Using the same Initial Vector (IV)"
   ]
  },
  {
   "cell_type": "code",
   "execution_count": 4,
   "metadata": {},
   "outputs": [
    {
     "name": "stdout",
     "output_type": "stream",
     "text": [
      "hex string is too short, padding with zero bytes to length\n",
      "00000000: 5a3a 835c 6e59 0e31 6737 e34a ad0d f6d6  Z:.\\nY.1g7.J....\n",
      "00000010: c466 45af b5cb f582 d6ca a5cf d849 f95b  .fE..........I.[\n",
      "00000020: 7639 1e23 81aa d90b bc55 9c85 17ab 21bf  v9.#.....U....!.\n",
      "00000030: 6859 f8a2 2257 07a2 756b 40d5 127d 3020  hY..\"W..uk@..}0 \n",
      "00000040: 1a06 ea64 4af1 588e 17be 5768 bd0e 015c  ...dJ.X...Wh...\\\n",
      "00000050: 1124 f51e b2be a987 e1b4 8669 2e1a ef2b  .$.........i...+\n",
      "00000060: 0d36 b45a dcac 4bb1 02ae e6a2 22f6 4714  .6.Z..K.....\".G.\n",
      "00000070: 417c 489e ad49 5e18 1c5e bdab 3ac3 bd2a  A|H..I^..^..:..*\n",
      "00000080: 55b3 1231 c547 5ad5 fdbc b02c c023 1f6f  U..1.GZ....,.#.o\n",
      "00000090: b668 f823 3ff0 bcda 4b8b cf9c f7fc 8338  .h.#?...K......8\n",
      "000000a0: 103f 2445 264f 9455 73bd 04c7 8a20 a438  .?$E&O.Us.... .8\n",
      "000000b0: 4ecd 5456 d1ce 7bbe a6fd ed81 22cb 666e  N.TV..{.....\".fn\n",
      "000000c0: d710 8748 cb7e 2c3a 295b 2c94 e9b8 dc71  ...H.~,:)[,....q\n",
      "000000d0: 2bb1 e593 05d6 2d1b 5aa3 eb73 e5e9 f3d9  +.....-.Z..s....\n",
      "000000e0: b870 ca0e a775 44c6 d733 c4d5 32f8 e60b  .p...uD..3..2...\n",
      "000000f0: 3a00 ac01 1581 2f45 ea8d 08cc cc64 c5d9  :...../E.....d..\n",
      "00000100: ff2b 4e94 3b4e 6db1 a521 d1fa 1293 af8d  .+N.;Nm..!......\n",
      "00000110: a399 b3a2 467e 2092 e53c 4f78 0014 7828  ....F~ ..<Ox..x(\n",
      "00000120: da77 ab88 77c7 2f7d 7a72 323e 8f69 e68d  .w..w./}zr2>.i..\n",
      "00000130: cefe 93d9 f686 b621 8f71 acda ee55 8942  .......!.q...U.B\n",
      "00000140: 2c9f 8d57 926f caec 8f8e bb69 6891 da6a  ,..W.o.....ih..j\n",
      "00000150: 26e5 1dbe 2eda 98d3 be3e 4e0e 950f a82d  &........>N....-\n",
      "00000160: 6abc 6413 b650 afba 494c 6bee c82f d0b8  j.d..P..ILk../..\n",
      "00000170: 6b68 78c6 baa4 2384 3502 f315 919c ffb5  khx...#.5.......\n",
      "00000180: c0d0 54cc 1ca8 f5ec db1b 0fca 5aa2 3fac  ..T.........Z.?.\n",
      "00000190: f3d7 cd88 1497 4c10 6129 6220 6951 297c  ......L.a)b iQ)|\n",
      "000001a0: 7730 df6b 19d0 9f7d 714b b0ad e3ec 13bc  w0.k...}qK......\n",
      "000001b0: aa68 4ccb 45b0 0fe8 1a52 f7a7 0251 5be3  .hL.E....R...Q[.\n",
      "000001c0: dbc2 dea7 3984 fe74 24ea 5feb 6e26 d1a5  ....9..t$._.n&..\n",
      "000001d0: c3e8 c50a cb74 d8ef 6508 5c8f 6784 fe5a  .....t..e.\\.g..Z\n",
      "000001e0: 50a7 a5a3 bb33 1d1c 96f9 08f1 e181 97f6  P....3..........\n",
      "000001f0: e858 8e37 287e 68a2 8ad9 8741 11bc 9c21  .X.7(~h....A...!\n",
      "00000200: 33d4 4143 218c d54b 1138 7e6c a1e9 3df5  3.AC!..K.8~l..=.\n",
      "00000210: 354c 864d 9ca3 043b 4020 569a 71d5 3e44  5L.M...;@ V.q.>D\n",
      "00000220: 066a c1ee d5de 0392 7082 dc30 f272 d9bd  .j......p..0.r..\n",
      "00000230: 5017 ac4d 25ec 9394 bc7d a119 7d5b 5da0  P..M%....}..}[].\n",
      "00000240: c67a dab1 e524 1ca6 9f16 62ad 98fa 9d9a  .z...$....b.....\n",
      "00000250: f631 f0cc 2543 b2e4 0223 38c5 84d1 f72f  .1..%C...#8..../\n",
      "00000260: e0c7 e1bc b7a2 3ff8 e3e1 840f 0fba 1d02  ......?.........\n",
      "00000270: 64a3 a732 2c56 ba9a a29b f6b5 a295 71b7  d..2,V........q.\n",
      "00000280: ebd0 105a c5e3 8034 28af daaa 16d0 31aa  ...Z...4(.....1.\n",
      "00000290: 7b27 736f 044d beb0 3d1e ccd5 01be ca32  {'so.M..=......2\n",
      "000002a0: 84f1 e52f 6644 a65a 233f cc0b 42bd 7dcb  .../fD.Z#?..B.}.\n",
      "000002b0: 5ced 4d9c 1230 0039 83d9 eba9 d5bd 3a05  \\.M..0.9......:.\n",
      "000002c0: 6890 3f82 46d7 bfbd 7ebb 8e16 620d e1f3  h.?.F...~...b...\n",
      "000002d0: 96a8 ad1c becb c963 b649 d559 f12e 853e  .......c.I.Y...>\n",
      "000002e0: b995 1fad f5d7 6eec 7b71 ffd2 6496 a2fa  ......n.{q..d...\n",
      "000002f0: 3372 77b5 4e7d 8fa7 e7e1 82ac be54 029d  3rw.N}.......T..\n",
      "00000300: 2209 8406 464f 9d8a 01f2 31bd e2ca c018  \"...FO....1.....\n",
      "00000310: 423c c2f1 5767 a1eb ab54 97c4 66de 3139  B<..Wg...T..f.19\n",
      "00000320: 83be c513 43a7 c05a 8706 5bc9 f09d 78d9  ....C..Z..[...x.\n",
      "00000330: f40d be95 2a41 2e9e c799 89d4 ef4e 9004  ....*A.......N..\n",
      "00000340: 8d75 6c18 e01c 50b1 347b 0ecf 5a92 c95f  .ul...P.4{..Z.._\n",
      "00000350: 9e81 6973 c52d ca1a f663 cc1a 3f28 ddee  ..is.-...c..?(..\n",
      "00000360: ec14 c991 9b40 5977 9f1b f64f 0328 0867  .....@Yw...O.(.g\n",
      "00000370: da12 2349 9a43 1edf 374e dd8e dccd d72a  ..#I.C..7N.....*\n",
      "00000380: 0c15 af81 295d 3448 4b5a 9fdf 8c99 d52d  ....)]4HKZ.....-\n",
      "00000390: b112 2996 64d5 6de7 e22c 2652 bdc4 4f93  ..).d.m..,&R..O.\n",
      "000003a0: 01c9 4528 af36 1439 df8c 894c 7a6c 4764  ..E(.6.9...LzlGd\n",
      "000003b0: 0e19 c8a3 ccc7 9077 4364 6105 6d21 65f1  .......wCda.m!e.\n",
      "000003c0: 105a 7535 e781 9d29 91ff 6f78 fce3 6a7b  .Zu5...)..ox..j{\n",
      "000003d0: ad66 029c 6fc9 cc2c 65a9 25bb f429 877c  .f..o..,e.%..).|\n",
      "000003e0: 5554 44dd baeb 345a c86f 3c4d 8a67 98f4  UTD...4Z.o<M.g..\n"
     ]
    }
   ],
   "source": [
    "#Original IV\n",
    "!openssl enc -aes-128-cbc -e  -in ./task05/1000bytes.txt -out ./task05/E1000bytes.txt -K 00112233445566778889aabbccddeeff -iv 0102030405060708\n",
    "!xxd ./task05/E1000bytes.txt"
   ]
  },
  {
   "cell_type": "code",
   "execution_count": 5,
   "metadata": {},
   "outputs": [
    {
     "name": "stdout",
     "output_type": "stream",
     "text": [
      "hex string is too short, padding with zero bytes to length\n",
      "00000000: 5a3a 835c 6e59 0e31 6737 e34a ad0d f6d6  Z:.\\nY.1g7.J....\n",
      "00000010: c466 45af b5cb f582 d6ca a5cf d849 f95b  .fE..........I.[\n",
      "00000020: 7639 1e23 81aa d90b bc55 9c85 17ab 21bf  v9.#.....U....!.\n",
      "00000030: 6859 f8a2 2257 07a2 756b 40d5 127d 3020  hY..\"W..uk@..}0 \n",
      "00000040: 1a06 ea64 4af1 588e 17be 5768 bd0e 015c  ...dJ.X...Wh...\\\n",
      "00000050: 1124 f51e b2be a987 e1b4 8669 2e1a ef2b  .$.........i...+\n",
      "00000060: 0d36 b45a dcac 4bb1 02ae e6a2 22f6 4714  .6.Z..K.....\".G.\n",
      "00000070: 417c 489e ad49 5e18 1c5e bdab 3ac3 bd2a  A|H..I^..^..:..*\n",
      "00000080: 55b3 1231 c547 5ad5 fdbc b02c c023 1f6f  U..1.GZ....,.#.o\n",
      "00000090: b668 f823 3ff0 bcda 4b8b cf9c f7fc 8338  .h.#?...K......8\n",
      "000000a0: 103f 2445 264f 9455 73bd 04c7 8a20 a438  .?$E&O.Us.... .8\n",
      "000000b0: 4ecd 5456 d1ce 7bbe a6fd ed81 22cb 666e  N.TV..{.....\".fn\n",
      "000000c0: d710 8748 cb7e 2c3a 295b 2c94 e9b8 dc71  ...H.~,:)[,....q\n",
      "000000d0: 2bb1 e593 05d6 2d1b 5aa3 eb73 e5e9 f3d9  +.....-.Z..s....\n",
      "000000e0: b870 ca0e a775 44c6 d733 c4d5 32f8 e60b  .p...uD..3..2...\n",
      "000000f0: 3a00 ac01 1581 2f45 ea8d 08cc cc64 c5d9  :...../E.....d..\n",
      "00000100: ff2b 4e94 3b4e 6db1 a521 d1fa 1293 af8d  .+N.;Nm..!......\n",
      "00000110: a399 b3a2 467e 2092 e53c 4f78 0014 7828  ....F~ ..<Ox..x(\n",
      "00000120: da77 ab88 77c7 2f7d 7a72 323e 8f69 e68d  .w..w./}zr2>.i..\n",
      "00000130: cefe 93d9 f686 b621 8f71 acda ee55 8942  .......!.q...U.B\n",
      "00000140: 2c9f 8d57 926f caec 8f8e bb69 6891 da6a  ,..W.o.....ih..j\n",
      "00000150: 26e5 1dbe 2eda 98d3 be3e 4e0e 950f a82d  &........>N....-\n",
      "00000160: 6abc 6413 b650 afba 494c 6bee c82f d0b8  j.d..P..ILk../..\n",
      "00000170: 6b68 78c6 baa4 2384 3502 f315 919c ffb5  khx...#.5.......\n",
      "00000180: c0d0 54cc 1ca8 f5ec db1b 0fca 5aa2 3fac  ..T.........Z.?.\n",
      "00000190: f3d7 cd88 1497 4c10 6129 6220 6951 297c  ......L.a)b iQ)|\n",
      "000001a0: 7730 df6b 19d0 9f7d 714b b0ad e3ec 13bc  w0.k...}qK......\n",
      "000001b0: aa68 4ccb 45b0 0fe8 1a52 f7a7 0251 5be3  .hL.E....R...Q[.\n",
      "000001c0: dbc2 dea7 3984 fe74 24ea 5feb 6e26 d1a5  ....9..t$._.n&..\n",
      "000001d0: c3e8 c50a cb74 d8ef 6508 5c8f 6784 fe5a  .....t..e.\\.g..Z\n",
      "000001e0: 50a7 a5a3 bb33 1d1c 96f9 08f1 e181 97f6  P....3..........\n",
      "000001f0: e858 8e37 287e 68a2 8ad9 8741 11bc 9c21  .X.7(~h....A...!\n",
      "00000200: 33d4 4143 218c d54b 1138 7e6c a1e9 3df5  3.AC!..K.8~l..=.\n",
      "00000210: 354c 864d 9ca3 043b 4020 569a 71d5 3e44  5L.M...;@ V.q.>D\n",
      "00000220: 066a c1ee d5de 0392 7082 dc30 f272 d9bd  .j......p..0.r..\n",
      "00000230: 5017 ac4d 25ec 9394 bc7d a119 7d5b 5da0  P..M%....}..}[].\n",
      "00000240: c67a dab1 e524 1ca6 9f16 62ad 98fa 9d9a  .z...$....b.....\n",
      "00000250: f631 f0cc 2543 b2e4 0223 38c5 84d1 f72f  .1..%C...#8..../\n",
      "00000260: e0c7 e1bc b7a2 3ff8 e3e1 840f 0fba 1d02  ......?.........\n",
      "00000270: 64a3 a732 2c56 ba9a a29b f6b5 a295 71b7  d..2,V........q.\n",
      "00000280: ebd0 105a c5e3 8034 28af daaa 16d0 31aa  ...Z...4(.....1.\n",
      "00000290: 7b27 736f 044d beb0 3d1e ccd5 01be ca32  {'so.M..=......2\n",
      "000002a0: 84f1 e52f 6644 a65a 233f cc0b 42bd 7dcb  .../fD.Z#?..B.}.\n",
      "000002b0: 5ced 4d9c 1230 0039 83d9 eba9 d5bd 3a05  \\.M..0.9......:.\n",
      "000002c0: 6890 3f82 46d7 bfbd 7ebb 8e16 620d e1f3  h.?.F...~...b...\n",
      "000002d0: 96a8 ad1c becb c963 b649 d559 f12e 853e  .......c.I.Y...>\n",
      "000002e0: b995 1fad f5d7 6eec 7b71 ffd2 6496 a2fa  ......n.{q..d...\n",
      "000002f0: 3372 77b5 4e7d 8fa7 e7e1 82ac be54 029d  3rw.N}.......T..\n",
      "00000300: 2209 8406 464f 9d8a 01f2 31bd e2ca c018  \"...FO....1.....\n",
      "00000310: 423c c2f1 5767 a1eb ab54 97c4 66de 3139  B<..Wg...T..f.19\n",
      "00000320: 83be c513 43a7 c05a 8706 5bc9 f09d 78d9  ....C..Z..[...x.\n",
      "00000330: f40d be95 2a41 2e9e c799 89d4 ef4e 9004  ....*A.......N..\n",
      "00000340: 8d75 6c18 e01c 50b1 347b 0ecf 5a92 c95f  .ul...P.4{..Z.._\n",
      "00000350: 9e81 6973 c52d ca1a f663 cc1a 3f28 ddee  ..is.-...c..?(..\n",
      "00000360: ec14 c991 9b40 5977 9f1b f64f 0328 0867  .....@Yw...O.(.g\n",
      "00000370: da12 2349 9a43 1edf 374e dd8e dccd d72a  ..#I.C..7N.....*\n",
      "00000380: 0c15 af81 295d 3448 4b5a 9fdf 8c99 d52d  ....)]4HKZ.....-\n",
      "00000390: b112 2996 64d5 6de7 e22c 2652 bdc4 4f93  ..).d.m..,&R..O.\n",
      "000003a0: 01c9 4528 af36 1439 df8c 894c 7a6c 4764  ..E(.6.9...LzlGd\n",
      "000003b0: 0e19 c8a3 ccc7 9077 4364 6105 6d21 65f1  .......wCda.m!e.\n",
      "000003c0: 105a 7535 e781 9d29 91ff 6f78 fce3 6a7b  .Zu5...)..ox..j{\n",
      "000003d0: ad66 029c 6fc9 cc2c 65a9 25bb f429 877c  .f..o..,e.%..).|\n",
      "000003e0: 5554 44dd baeb 345a c86f 3c4d 8a67 98f4  UTD...4Z.o<M.g..\n"
     ]
    }
   ],
   "source": [
    "#Same IV\n",
    "!openssl enc -aes-128-cbc -e  -in ./task05/1000bytes.txt -out ./task05/E1000bytes.txt -K 00112233445566778889aabbccddeeff -iv 0102030405060708\n",
    "!xxd ./task05/E1000bytes.txt"
   ]
  },
  {
   "cell_type": "code",
   "execution_count": 6,
   "metadata": {},
   "outputs": [
    {
     "name": "stdout",
     "output_type": "stream",
     "text": [
      "hex string is too short, padding with zero bytes to length\n",
      "00000000: 043f 36e2 b4cd d9b9 0a14 4039 80da 7485  .?6.......@9..t.\n",
      "00000010: e1ec 8928 8a10 453e 029f ffdc 447e 86ee  ...(..E>....D~..\n",
      "00000020: a4fd 3966 fe07 71a8 c55b 09ba 199f 5997  ..9f..q..[....Y.\n",
      "00000030: 77d4 9df7 0dec a930 75b9 7029 be79 6579  w......0u.p).yey\n",
      "00000040: e363 35ec 1888 9dc2 81a8 34a0 a2c0 9ed8  .c5.......4.....\n",
      "00000050: be45 ae94 a3a0 1392 05f4 6965 9546 7786  .E........ie.Fw.\n",
      "00000060: a6fe b48c 9154 888b db2a 76e0 4ccf 3b59  .....T...*v.L.;Y\n",
      "00000070: 71e3 f017 e03d 9739 7905 3c29 2451 4907  q....=.9y.<)$QI.\n",
      "00000080: ef3c cd40 48f6 4ec3 f22d 1020 d8c0 819a  .<.@H.N..-. ....\n",
      "00000090: 7cba a89f fd0f 4b3c 36a4 5615 832d 3c71  |.....K<6.V..-<q\n",
      "000000a0: 8024 dc89 127b 287c 61ff 32cd 8c74 40d5  .$...{(|a.2..t@.\n",
      "000000b0: 5076 5a53 5365 2ad7 9039 9248 57be 8ada  PvZSSe*..9.HW...\n",
      "000000c0: 566a e718 5d3d 62b7 4613 8830 0fff 1276  Vj..]=b.F..0...v\n",
      "000000d0: b660 e272 161b fd8f 223e b941 6ce1 6947  .`.r....\">.Al.iG\n",
      "000000e0: 2f1c 21f3 201d fdc6 f4cb dc45 e9d8 7700  /.!. ......E..w.\n",
      "000000f0: 7e09 3905 2f12 8125 ef41 2e33 4acc bb41  ~.9./..%.A.3J..A\n",
      "00000100: fce7 b2c5 f82c c128 7910 fb26 49f0 e6ec  .....,.(y..&I...\n",
      "00000110: 949c 9133 6167 b9ca 4c3b 7e77 e378 ec29  ...3ag..L;~w.x.)\n",
      "00000120: c813 2290 561a 6d0d 94c9 2871 e730 ebf4  ..\".V.m...(q.0..\n",
      "00000130: d333 055c 0e12 54e6 d4e7 f191 effc 8003  .3.\\..T.........\n",
      "00000140: f4d4 90d0 8b41 4f3e cb9b fae9 e951 dab8  .....AO>.....Q..\n",
      "00000150: 0ed1 1a40 4725 8e61 071f 8810 9158 450f  ...@G%.a.....XE.\n",
      "00000160: e11c ac44 32cb 7620 de1b abe6 af22 1545  ...D2.v .....\".E\n",
      "00000170: fa16 8426 94d9 4cf1 7400 8721 c0f7 e1c6  ...&..L.t..!....\n",
      "00000180: 6f54 4959 c94c 2004 4cc9 66f2 1f52 0abb  oTIY.L .L.f..R..\n",
      "00000190: d163 0728 eaa0 82bc a6b9 02b0 bd05 bf4e  .c.(...........N\n",
      "000001a0: 390f d820 877f 4eed a9a8 3592 5b53 1fe9  9.. ..N...5.[S..\n",
      "000001b0: 1c77 9bc4 ccdc 46a4 9f74 d831 f614 3542  .w....F..t.1..5B\n",
      "000001c0: 1c49 e84b 9b43 b2fe 5082 8b5d 70e6 15ab  .I.K.C..P..]p...\n",
      "000001d0: 4ee3 77ab 0046 05fe c891 ff3e d4f9 2f07  N.w..F.....>../.\n",
      "000001e0: 8681 dfa7 707f b6cd f2a6 fbe7 83da 6cb7  ....p.........l.\n",
      "000001f0: 3544 8274 f614 a629 d6d0 103a a7a2 39c4  5D.t...)...:..9.\n",
      "00000200: 2880 1b36 e6a9 fc56 0394 3d66 9ef2 6af6  (..6...V..=f..j.\n",
      "00000210: c843 35d2 30e0 fd8f 590f 357b 9040 d3a9  .C5.0...Y.5{.@..\n",
      "00000220: 9553 2503 f1de c921 c562 1a85 6856 a91d  .S%....!.b..hV..\n",
      "00000230: 69be d921 7c5b 6d43 409f c495 4aff 8e54  i..!|[mC@...J..T\n",
      "00000240: 84f7 c06d f7ea 0ec6 4c8e 28cb 69fe 39be  ...m....L.(.i.9.\n",
      "00000250: 19af d26e fe5c 961f 5339 a423 d779 a92e  ...n.\\..S9.#.y..\n",
      "00000260: e76b 4b62 76a3 9d1a 8296 a7da 949f f0eb  .kKbv...........\n",
      "00000270: 3a2d eded a0e5 dfd9 d235 7026 114a 576d  :-.......5p&.JWm\n",
      "00000280: fa7d 581b 10d9 9895 b920 ae6f b6c4 0a2d  .}X...... .o...-\n",
      "00000290: e882 bb6c 6d1e dbaf 788d da7d 7b19 8276  ...lm...x..}{..v\n",
      "000002a0: 7459 f234 d8e6 716d cb7b c007 40ca a6d5  tY.4..qm.{..@...\n",
      "000002b0: 2fe6 55d3 77c0 ce91 7213 e6a9 12e0 7134  /.U.w...r.....q4\n",
      "000002c0: 2173 9ff2 7724 2be1 b402 8e99 b30f 3b79  !s..w$+.......;y\n",
      "000002d0: f83f daa3 70a2 168f 264b aa61 bdae 7cfd  .?..p...&K.a..|.\n",
      "000002e0: 5590 1362 62b6 74eb 79ba 49a2 41e8 b2b5  U..bb.t.y.I.A...\n",
      "000002f0: d427 c54b 6956 ff49 5828 8f50 80d1 6d40  .'.KiV.IX(.P..m@\n",
      "00000300: 1f51 2a2e 561a 5d00 d660 cacd 856b 08ce  .Q*.V.]..`...k..\n",
      "00000310: 3952 5184 48db 45ae 57ae aaa4 32de 251a  9RQ.H.E.W...2.%.\n",
      "00000320: 4150 1f46 c5a5 94b1 d8b1 309b 2b6c 0095  AP.F......0.+l..\n",
      "00000330: 34f3 3b66 71ab 63c2 19df d8a3 54d6 e64d  4.;fq.c.....T..M\n",
      "00000340: 4505 faab c54d 8304 2cd8 9637 9fe1 098d  E....M..,..7....\n",
      "00000350: 9de8 1b50 3ee5 11c7 1457 c8ef cc53 a808  ...P>....W...S..\n",
      "00000360: a1cc 32ca d02e 1f36 f8fb 868f 7189 67b1  ..2....6....q.g.\n",
      "00000370: 3a12 43aa adcb 3b39 55d2 1798 b4e3 0699  :.C...;9U.......\n",
      "00000380: f116 de65 87e6 6f53 f233 6adb 78c0 beaf  ...e..oS.3j.x...\n",
      "00000390: 0d04 4550 d67e 38ab 5929 82c1 710d 55a2  ..EP.~8.Y)..q.U.\n",
      "000003a0: 0287 2f26 c823 55d5 0465 9087 5db6 eeb3  ../&.#U..e..]...\n",
      "000003b0: ca0c 4069 c8f9 77dc 6a2d 4efd ad85 61b9  ..@i..w.j-N...a.\n",
      "000003c0: e83a a799 ff2e e619 5a94 00b7 d280 c254  .:......Z......T\n",
      "000003d0: 04a9 9929 7356 14f0 1824 5efa bcae 9360  ...)sV...$^....`\n",
      "000003e0: 785d 4d8f 7658 d111 6514 915e 9935 e605  x]M.vX..e..^.5..\n"
     ]
    }
   ],
   "source": [
    "#Different IV\n",
    "!openssl enc -aes-128-cbc -e  -in ./task05/1000bytes.txt -out ./task05/E1000bytes.txt -K 00112233445566778889aabbccddeeff -iv 0191251032546\n",
    "!xxd ./task05/E1000bytes.txt"
   ]
  },
  {
   "cell_type": "markdown",
   "metadata": {},
   "source": [
    "## 6.2: Using the same Initial Vector (IV)\n",
    "\n",
    "```\n",
    "Plaintext (P1): This is a known message!\n",
    "Ciphertext (C1): a469b1c502c1cab966965e50425438e1bb1b5f9037a4c159\n",
    "Plaintext (P2): (unknown to you)\n",
    "Ciphertext (C2): bf73bcd3509299d566c35b5d450337e1bb175f903fafc159\n",
    "```"
   ]
  },
  {
   "cell_type": "code",
   "execution_count": 22,
   "metadata": {},
   "outputs": [
    {
     "name": "stdout",
     "output_type": "stream",
     "text": [
      "1b1a0d165253536c0055050d07570f00000c0000080b0000\n",
      "Nseds;!M`tobi!`!lhrrhmd \n"
     ]
    }
   ],
   "source": [
    "! python3 sample_code.py"
   ]
  },
  {
   "cell_type": "code",
   "execution_count": 4,
   "metadata": {},
   "outputs": [],
   "source": [
    "def xor(first, second):\n",
    "   return bytearray(x^y for x,y in zip(first, second))"
   ]
  },
  {
   "cell_type": "code",
   "execution_count": 10,
   "metadata": {},
   "outputs": [
    {
     "data": {
      "text/plain": [
       "'aa768eec0a0d0d0d0d0d0d0d0d0d0d0d'"
      ]
     },
     "execution_count": 10,
     "metadata": {},
     "output_type": "execute_result"
    }
   ],
   "source": [
    "plain_yes = \"Yes\"\n",
    "plain_yes = \"5965730d0d0d0d0d0d0d0d0d0d0d0d0d\"\n",
    "iv_temp =   \"f590d7ecd3ed75cbbade82a6a51880e7\"\n",
    "D2 = bytearray.fromhex(plain_yes)\n",
    "D3 = bytearray.fromhex(iv_temp)\n",
    "current_iv = \"06832a0dd4ed75cbbade82a6a51880e7\"\n",
    "D4 = bytearray.fromhex(current_iv)\n",
    "\n",
    "temp1 = xor(D2, D3)\n",
    "temp2 = xor(temp1, D4)\n",
    "temp2.hex()\n",
    "\n",
    "\n"
   ]
  },
  {
   "cell_type": "markdown",
   "metadata": {},
   "source": [
    "# Task 7: Programming using the Crypto Library"
   ]
  },
  {
   "cell_type": "code",
   "execution_count": 272,
   "metadata": {},
   "outputs": [
    {
     "name": "stdout",
     "output_type": "stream",
     "text": [
      "Plaintext:  Top secret: KQKT\n",
      "Ciphertext:  5350819e19ee6178a4fdf10bc6ce2c2e\n",
      "Initial vector:  010203040506070809000a0b0c0d0e0f\n",
      "Secrect key:  436f77616e2323232323232323232323\n",
      "Key found:  Cowan###########\n"
     ]
    }
   ],
   "source": [
    "import random\n",
    "from Crypto.Cipher import AES\n",
    "\n",
    "def getKeyList():\n",
    "    f = open(\"./task07/words.txt\", \"r\")\n",
    "    words = f.read().split('\\n')\n",
    "    keys = []\n",
    "    for i in range(len(words)):\n",
    "        if len(words[i]) <= 16:\n",
    "            keys.append(words[i].ljust(16, '#'))\n",
    "    return keys\n",
    "\n",
    "# Initialize test case\n",
    "keys = getKeyList()\n",
    "plaintext = \"Top secret: KQKT\"\n",
    "key = random.choice(keys)\n",
    "iv = bytes.fromhex('010203040506070809000a0b0c0d0e0f')\n",
    "\n",
    "# Encrypt\n",
    "obj = AES.new(key, AES.MODE_CBC, iv)\n",
    "ciphertext = obj.encrypt(plaintext)\n",
    "print('Plaintext: ', plaintext)\n",
    "print('Ciphertext: ', ciphertext.hex())\n",
    "print('Initial vector: ', iv.hex())\n",
    "print('Secret key: ', key.encode('utf-8').hex())\n",
    "\n",
    "# Decrypt\n",
    "for key in keys: \n",
    "    obj2 = AES.new(key, AES.MODE_CBC, iv)\n",
    "    encypted = obj2.encrypt(plaintext)\n",
    "    if ciphertext == encypted:\n",
    "        print('Key found: ', key)\n"
   ]
  }
 ],
 "metadata": {
  "kernelspec": {
   "display_name": "Python 3.8.9 64-bit",
   "language": "python",
   "name": "python3"
  },
  "language_info": {
   "codemirror_mode": {
    "name": "ipython",
    "version": 3
   },
   "file_extension": ".py",
   "mimetype": "text/x-python",
   "name": "python",
   "nbconvert_exporter": "python",
   "pygments_lexer": "ipython3",
   "version": "3.8.10"
  },
  "orig_nbformat": 4,
  "vscode": {
   "interpreter": {
    "hash": "31f2aee4e71d21fbe5cf8b01ff0e069b9275f58929596ceb00d14d90e3e16cd6"
   }
  }
 },
 "nbformat": 4,
 "nbformat_minor": 2
}
